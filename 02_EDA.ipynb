{
 "cells": [
  {
   "cell_type": "code",
   "execution_count": 1,
   "metadata": {},
   "outputs": [],
   "source": [
    "import pandas as pd\n",
    "import numpy as np\n",
    "import seaborn as sns\n",
    "import matplotlib.pyplot as plt"
   ]
  },
  {
   "cell_type": "code",
   "execution_count": 2,
   "metadata": {},
   "outputs": [],
   "source": [
    "df_courses = pd.read_csv('./data/ga_course_info.csv')\n",
    "df_general = pd.read_csv('./data/ga_scrape_info.csv')"
   ]
  },
  {
   "cell_type": "code",
   "execution_count": 3,
   "metadata": {},
   "outputs": [
    {
     "name": "stdout",
     "output_type": "stream",
     "text": [
      "(15, 2)\n",
      "(32, 8)\n"
     ]
    }
   ],
   "source": [
    "print(df_courses.shape)\n",
    "print(df_general.shape)"
   ]
  },
  {
   "cell_type": "code",
   "execution_count": 4,
   "metadata": {},
   "outputs": [
    {
     "data": {
      "text/html": [
       "<div>\n",
       "<style scoped>\n",
       "    .dataframe tbody tr th:only-of-type {\n",
       "        vertical-align: middle;\n",
       "    }\n",
       "\n",
       "    .dataframe tbody tr th {\n",
       "        vertical-align: top;\n",
       "    }\n",
       "\n",
       "    .dataframe thead th {\n",
       "        text-align: right;\n",
       "    }\n",
       "</style>\n",
       "<table border=\"1\" class=\"dataframe\">\n",
       "  <thead>\n",
       "    <tr style=\"text-align: right;\">\n",
       "      <th></th>\n",
       "      <th>course</th>\n",
       "      <th>description</th>\n",
       "    </tr>\n",
       "  </thead>\n",
       "  <tbody>\n",
       "    <tr>\n",
       "      <th>0</th>\n",
       "      <td>Software Engineering Immersive</td>\n",
       "      <td>Developed with guidance from our software engi...</td>\n",
       "    </tr>\n",
       "    <tr>\n",
       "      <th>1</th>\n",
       "      <td>User Experience Design Immersive</td>\n",
       "      <td>Developed with guidance from our User Experien...</td>\n",
       "    </tr>\n",
       "    <tr>\n",
       "      <th>2</th>\n",
       "      <td>Data Science Immersive</td>\n",
       "      <td>Data science has topped LinkedIn’s Emerging Jo...</td>\n",
       "    </tr>\n",
       "    <tr>\n",
       "      <th>3</th>\n",
       "      <td>Digital Marketing Immersive</td>\n",
       "      <td>Developed with insights from our global networ...</td>\n",
       "    </tr>\n",
       "    <tr>\n",
       "      <th>4</th>\n",
       "      <td>Software Engineering Immersive Remote Flex</td>\n",
       "      <td>Developed with guidance from our software engi...</td>\n",
       "    </tr>\n",
       "  </tbody>\n",
       "</table>\n",
       "</div>"
      ],
      "text/plain": [
       "                                       course  \\\n",
       "0              Software Engineering Immersive   \n",
       "1            User Experience Design Immersive   \n",
       "2                      Data Science Immersive   \n",
       "3                 Digital Marketing Immersive   \n",
       "4  Software Engineering Immersive Remote Flex   \n",
       "\n",
       "                                         description  \n",
       "0  Developed with guidance from our software engi...  \n",
       "1  Developed with guidance from our User Experien...  \n",
       "2  Data science has topped LinkedIn’s Emerging Jo...  \n",
       "3  Developed with insights from our global networ...  \n",
       "4  Developed with guidance from our software engi...  "
      ]
     },
     "execution_count": 4,
     "metadata": {},
     "output_type": "execute_result"
    }
   ],
   "source": [
    "df_courses.head()"
   ]
  },
  {
   "cell_type": "code",
   "execution_count": 5,
   "metadata": {},
   "outputs": [
    {
     "data": {
      "text/html": [
       "<div>\n",
       "<style scoped>\n",
       "    .dataframe tbody tr th:only-of-type {\n",
       "        vertical-align: middle;\n",
       "    }\n",
       "\n",
       "    .dataframe tbody tr th {\n",
       "        vertical-align: top;\n",
       "    }\n",
       "\n",
       "    .dataframe thead th {\n",
       "        text-align: right;\n",
       "    }\n",
       "</style>\n",
       "<table border=\"1\" class=\"dataframe\">\n",
       "  <thead>\n",
       "    <tr style=\"text-align: right;\">\n",
       "      <th></th>\n",
       "      <th>city</th>\n",
       "      <th>state</th>\n",
       "      <th>country</th>\n",
       "      <th>address</th>\n",
       "      <th>phone number</th>\n",
       "      <th>email</th>\n",
       "      <th>full-time courses</th>\n",
       "      <th>part-time courses</th>\n",
       "    </tr>\n",
       "  </thead>\n",
       "  <tbody>\n",
       "    <tr>\n",
       "      <th>0</th>\n",
       "      <td>Atlanta</td>\n",
       "      <td>Georgia</td>\n",
       "      <td>USA</td>\n",
       "      <td>675 Ponce De Leon Avenue NE, 2nd FloorAtlanta,...</td>\n",
       "      <td>+1 (404) 334-7858</td>\n",
       "      <td>atlanta@generalassemb.ly</td>\n",
       "      <td>['Software Engineering Immersive', 'Data Scien...</td>\n",
       "      <td>['Product Management', 'Front-End Web Developm...</td>\n",
       "    </tr>\n",
       "    <tr>\n",
       "      <th>1</th>\n",
       "      <td>Austin</td>\n",
       "      <td>Texas</td>\n",
       "      <td>USA</td>\n",
       "      <td>600 Congress Avenue, 14th FloorAustin, TX 78701</td>\n",
       "      <td>+1 (512) 823-0359</td>\n",
       "      <td>austin@generalassemb.ly</td>\n",
       "      <td>['Software Engineering Immersive', 'Data Scien...</td>\n",
       "      <td>['Product Management', 'Front-End Web Developm...</td>\n",
       "    </tr>\n",
       "    <tr>\n",
       "      <th>2</th>\n",
       "      <td>Boston</td>\n",
       "      <td>Massachusetts</td>\n",
       "      <td>USA</td>\n",
       "      <td>125 Summer Street\\r\\n\\r\\n\\r\\n13th FloorBoston,...</td>\n",
       "      <td>+1 (617) 207-6245</td>\n",
       "      <td>boston@generalassemb.ly</td>\n",
       "      <td>['Software Engineering Immersive', 'Data Scien...</td>\n",
       "      <td>['Product Management', 'Front-End Web Developm...</td>\n",
       "    </tr>\n",
       "    <tr>\n",
       "      <th>3</th>\n",
       "      <td>Denver</td>\n",
       "      <td>Colorado</td>\n",
       "      <td>USA</td>\n",
       "      <td>3858 Walnut StDenver, CO 80205</td>\n",
       "      <td>+1 (303) 963-9936</td>\n",
       "      <td>denver@generalassemb.ly</td>\n",
       "      <td>['Software Engineering Immersive', 'Data Scien...</td>\n",
       "      <td>['Product Management', 'Front-End Web Developm...</td>\n",
       "    </tr>\n",
       "    <tr>\n",
       "      <th>4</th>\n",
       "      <td>Detroit</td>\n",
       "      <td>Michigan</td>\n",
       "      <td>USA</td>\n",
       "      <td>NaN</td>\n",
       "      <td>+1 (917) 722-0237</td>\n",
       "      <td>detroit@generalassemb.ly</td>\n",
       "      <td>['Software Engineering Immersive', 'Data Scien...</td>\n",
       "      <td>['Product Management', 'Front-End Web Developm...</td>\n",
       "    </tr>\n",
       "  </tbody>\n",
       "</table>\n",
       "</div>"
      ],
      "text/plain": [
       "      city          state country  \\\n",
       "0  Atlanta        Georgia     USA   \n",
       "1   Austin          Texas     USA   \n",
       "2   Boston  Massachusetts     USA   \n",
       "3   Denver       Colorado     USA   \n",
       "4  Detroit       Michigan     USA   \n",
       "\n",
       "                                             address       phone number  \\\n",
       "0  675 Ponce De Leon Avenue NE, 2nd FloorAtlanta,...  +1 (404) 334-7858   \n",
       "1    600 Congress Avenue, 14th FloorAustin, TX 78701  +1 (512) 823-0359   \n",
       "2  125 Summer Street\\r\\n\\r\\n\\r\\n13th FloorBoston,...  +1 (617) 207-6245   \n",
       "3                     3858 Walnut StDenver, CO 80205  +1 (303) 963-9936   \n",
       "4                                                NaN  +1 (917) 722-0237   \n",
       "\n",
       "                      email  \\\n",
       "0  atlanta@generalassemb.ly   \n",
       "1   austin@generalassemb.ly   \n",
       "2   boston@generalassemb.ly   \n",
       "3   denver@generalassemb.ly   \n",
       "4  detroit@generalassemb.ly   \n",
       "\n",
       "                                   full-time courses  \\\n",
       "0  ['Software Engineering Immersive', 'Data Scien...   \n",
       "1  ['Software Engineering Immersive', 'Data Scien...   \n",
       "2  ['Software Engineering Immersive', 'Data Scien...   \n",
       "3  ['Software Engineering Immersive', 'Data Scien...   \n",
       "4  ['Software Engineering Immersive', 'Data Scien...   \n",
       "\n",
       "                                   part-time courses  \n",
       "0  ['Product Management', 'Front-End Web Developm...  \n",
       "1  ['Product Management', 'Front-End Web Developm...  \n",
       "2  ['Product Management', 'Front-End Web Developm...  \n",
       "3  ['Product Management', 'Front-End Web Developm...  \n",
       "4  ['Product Management', 'Front-End Web Developm...  "
      ]
     },
     "execution_count": 5,
     "metadata": {},
     "output_type": "execute_result"
    }
   ],
   "source": [
    "df_general.head()"
   ]
  },
  {
   "cell_type": "markdown",
   "metadata": {},
   "source": [
    "# EDA"
   ]
  },
  {
   "cell_type": "code",
   "execution_count": 6,
   "metadata": {},
   "outputs": [],
   "source": [
    "x = df_general['country'].value_counts().index\n",
    "height = df_general['country'].value_counts()"
   ]
  },
  {
   "cell_type": "code",
   "execution_count": 7,
   "metadata": {},
   "outputs": [
    {
     "data": {
      "image/png": "[encoded data removed]",
      "text/plain": [
       "<Figure size 504x360 with 1 Axes>"
      ]
     },
     "metadata": {
      "needs_background": "light"
     },
     "output_type": "display_data"
    }
   ],
   "source": [
    "plt.figure(figsize = (7,5))\n",
    "plt.bar(x, height, color = 'teal')\n",
    "plt.title('Count of Campuses in Each Country', fontsize=20)\n",
    "plt.xlabel('Countries', fontsize = 15)\n",
    "plt.ylabel('Count', fontsize = 15)\n",
    "plt.tight_layout();"
   ]
  },
  {
   "cell_type": "code",
   "execution_count": 8,
   "metadata": {},
   "outputs": [],
   "source": [
    "x_contact = ['address', 'phone number', 'email']\n",
    "height_contact = [df_general['address'].count(), df_general['phone number'].count(), df_general['email'].count()]"
   ]
  },
  {
   "cell_type": "code",
   "execution_count": 9,
   "metadata": {},
   "outputs": [
    {
     "data": {
      "image/png": "[encoded data removed]",
      "text/plain": [
       "<Figure size 504x360 with 1 Axes>"
      ]
     },
     "metadata": {
      "needs_background": "light"
     },
     "output_type": "display_data"
    }
   ],
   "source": [
    "plt.figure(figsize = (7,5))\n",
    "plt.bar(x_contact, height_contact, color = 'teal')\n",
    "plt.title('Types of Contact Information', fontsize=20)\n",
    "plt.xlabel('Contact Information Type', fontsize = 15)\n",
    "plt.ylabel('Count', fontsize = 15)\n",
    "plt.tight_layout();"
   ]
  },
  {
   "cell_type": "code",
   "execution_count": 10,
   "metadata": {},
   "outputs": [
    {
     "data": {
      "text/plain": [
       "[32, 32, 32, 1]"
      ]
     },
     "execution_count": 10,
     "metadata": {},
     "output_type": "execute_result"
    }
   ],
   "source": [
    "sei = 0\n",
    "uxi = 0\n",
    "dsi = 0\n",
    "dmi = 0\n",
    "for course in df_general['full-time courses']:\n",
    "    if 'software engineering immersive' in course.lower():\n",
    "        sei += 1\n",
    "    if 'user experience design immersive' in course.lower():\n",
    "        uxi += 1\n",
    "    if 'data science immersive' in course.lower():\n",
    "        dsi += 1\n",
    "    if 'digital marketing immersive' in course.lower():\n",
    "        dmi += 1\n",
    "prog_count = [sei, uxi, dsi, dmi]\n",
    "prog_count"
   ]
  },
  {
   "cell_type": "code",
   "execution_count": 11,
   "metadata": {},
   "outputs": [],
   "source": [
    "x_ftcourse = ['Software Engineering Immersive', 'Data Science Immersive', 'User Experience Design Immersive', 'Digital Marketing Immersive']"
   ]
  },
  {
   "cell_type": "code",
   "execution_count": 12,
   "metadata": {},
   "outputs": [
    {
     "data": {
      "image/png": "[encoded data removed]",
      "text/plain": [
       "<Figure size 648x288 with 1 Axes>"
      ]
     },
     "metadata": {
      "needs_background": "light"
     },
     "output_type": "display_data"
    }
   ],
   "source": [
    "plt.figure(figsize = (9,4))\n",
    "plt.barh(x_ftcourse, prog_count, color = 'teal')\n",
    "plt.title('Count of Full-Time Programs', fontsize=20)\n",
    "plt.xlabel('Count', fontsize = 15)\n",
    "plt.ylabel('Programs', fontsize = 15)\n",
    "plt.tight_layout();"
   ]
  },
  {
   "cell_type": "code",
   "execution_count": 13,
   "metadata": {},
   "outputs": [],
   "source": [
    "pt_courses = []\n",
    "for row in range(0, len(df_general['part-time courses'])):\n",
    "    for i in df_general['part-time courses'][row].split(\"'\"):\n",
    "        if i not in pt_courses:\n",
    "            pt_courses.append(i)\n",
    "pt_courses.remove('[')\n",
    "pt_courses.remove(', ')\n",
    "pt_courses.remove(']')"
   ]
  },
  {
   "cell_type": "code",
   "execution_count": 14,
   "metadata": {},
   "outputs": [],
   "source": [
    "all_pt_courses = []\n",
    "for c in df_general['part-time courses']:\n",
    "    for d in range(0, len(pt_courses)):\n",
    "        if pt_courses[d] in c:\n",
    "            all_pt_courses.append(pt_courses[d])"
   ]
  },
  {
   "cell_type": "code",
   "execution_count": 15,
   "metadata": {},
   "outputs": [
    {
     "data": {
      "text/plain": [
       "{'Product Management': 32,\n",
       " 'Front-End Web Development': 32,\n",
       " 'JavaScript Development': 32,\n",
       " 'Python Programming': 32,\n",
       " 'React Development': 28,\n",
       " 'Data Analytics': 32,\n",
       " 'Data Science': 32,\n",
       " 'User Experience Design': 32,\n",
       " 'Visual Design': 30,\n",
       " 'Digital Marketing': 32}"
      ]
     },
     "execution_count": 15,
     "metadata": {},
     "output_type": "execute_result"
    }
   ],
   "source": [
    "pt_count = {}\n",
    "for item in range(0, len(pt_courses)):\n",
    "    counts = all_pt_courses.count(pt_courses[item])\n",
    "    pt_count[pt_courses[item]] = counts\n",
    "pt_count"
   ]
  },
  {
   "cell_type": "code",
   "execution_count": 16,
   "metadata": {},
   "outputs": [],
   "source": [
    "y_ptcourse = [k for k, v in pt_count.items()]\n",
    "x_ptcourse = [v for k, v in pt_count.items()]"
   ]
  },
  {
   "cell_type": "code",
   "execution_count": 17,
   "metadata": {},
   "outputs": [
    {
     "data": {
      "image/png": "[encoded data removed]",
      "text/plain": [
       "<Figure size 648x504 with 1 Axes>"
      ]
     },
     "metadata": {
      "needs_background": "light"
     },
     "output_type": "display_data"
    }
   ],
   "source": [
    "plt.figure(figsize = (9,7))\n",
    "plt.barh(y_ptcourse, x_ptcourse, color = 'teal')\n",
    "plt.title('Count of Part-Time Programs', fontsize=20)\n",
    "plt.xlabel('Count', fontsize = 15)\n",
    "plt.ylabel('Programs', fontsize = 15)\n",
    "plt.tight_layout();"
   ]
  },
  {
   "cell_type": "code",
   "execution_count": null,
   "metadata": {},
   "outputs": [],
   "source": []
  }
 ],
 "metadata": {
  "kernelspec": {
   "display_name": "Python 3",
   "language": "python",
   "name": "python3"
  },
  "language_info": {
   "codemirror_mode": {
    "name": "ipython",
    "version": 3
   },
   "file_extension": ".py",
   "mimetype": "text/x-python",
   "name": "python",
   "nbconvert_exporter": "python",
   "pygments_lexer": "ipython3",
   "version": "3.7.6"
  }
 },
 "nbformat": 4,
 "nbformat_minor": 4
}
