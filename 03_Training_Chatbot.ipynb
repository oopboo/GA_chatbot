{
 "cells": [
  {
   "cell_type": "code",
   "execution_count": 1,
   "metadata": {},
   "outputs": [],
   "source": [
    "from chatterbot import ChatBot\n",
    "from chatterbot.trainers import ListTrainer\n",
    "from chatterbot.trainers import ChatterBotCorpusTrainer\n",
    "from chatterbot.response_selection import get_most_frequent_response\n",
    "\n",
    "import json\n",
    "import pandas as pd\n",
    "import yaml"
   ]
  },
  {
   "cell_type": "markdown",
   "metadata": {},
   "source": [
    "# Training the Chatbot"
   ]
  },
  {
   "cell_type": "code",
   "execution_count": 2,
   "metadata": {},
   "outputs": [],
   "source": [
    "chatbot = ChatBot(name = 'GA Bot', \n",
    "                  logic_adapters = [\n",
    "                      {\n",
    "                        \"import_path\": \"chatterbot.logic.BestMatch\",\n",
    "                        \"statement_comparison_function\": \"chatterbot.comparisons.JaccardSimilarity\",\n",
    "                        \"default_response\": \"Sorry, I am not sure of the answer. For more information visit the website: generalassemb.ly\",\n",
    "                        \"maximum_similarity_threshold\": 0.95\n",
    "                      }   \n",
    "                  ],\n",
    "                  response_selection_method= get_most_frequent_response,\n",
    "                  preprocessors = ['chatterbot.preprocessors.clean_whitespace'],\n",
    "                  storage_adapter = 'chatterbot.storage.SQLStorageAdapter',\n",
    "                  database_uri = 'sqlite:///database.sqlite3')"
   ]
  },
  {
   "cell_type": "code",
   "execution_count": 3,
   "metadata": {},
   "outputs": [],
   "source": [
    "trainer = ChatterBotCorpusTrainer(chatbot)"
   ]
  },
  {
   "cell_type": "code",
   "execution_count": 4,
   "metadata": {},
   "outputs": [
    {
     "name": "stdout",
     "output_type": "stream",
     "text": [
      "Training ai.yml: [####################] 100%\n",
      "Training botprofile.yml: [####################] 100%\n",
      "Training computers.yml: [####################] 100%\n",
      "Training conversations.yml: [####################] 100%\n",
      "Training greetings.yml: [####################] 100%\n"
     ]
    }
   ],
   "source": [
    "trainer.train('chatterbot.corpus.english.ai')\n",
    "trainer.train('chatterbot.corpus.english.botprofile')\n",
    "trainer.train('chatterbot.corpus.english.computers')\n",
    "trainer.train('chatterbot.corpus.english.conversations')\n",
    "trainer.train('chatterbot.corpus.english.greetings')"
   ]
  },
  {
   "cell_type": "code",
   "execution_count": 5,
   "metadata": {},
   "outputs": [
    {
     "name": "stdout",
     "output_type": "stream",
     "text": [
      "Training ga_info.yml: [####################] 100%\n",
      "CPU times: user 7.55 s, sys: 330 ms, total: 7.88 s\n",
      "Wall time: 8.08 s\n"
     ]
    }
   ],
   "source": [
    "%%time\n",
    "trainer.train('chatterbot.corpus.custom.ga_info')"
   ]
  },
  {
   "cell_type": "code",
   "execution_count": 6,
   "metadata": {},
   "outputs": [
    {
     "name": "stdout",
     "output_type": "stream",
     "text": [
      "Training ga_course_info.yml: [####################] 100%\n",
      "CPU times: user 529 ms, sys: 39.7 ms, total: 568 ms\n",
      "Wall time: 570 ms\n"
     ]
    }
   ],
   "source": [
    "%%time\n",
    "trainer.train('chatterbot.corpus.custom.ga_course_info')"
   ]
  },
  {
   "cell_type": "code",
   "execution_count": 7,
   "metadata": {},
   "outputs": [],
   "source": [
    "list_trainer = ListTrainer(chatbot)"
   ]
  },
  {
   "cell_type": "code",
   "execution_count": 8,
   "metadata": {},
   "outputs": [],
   "source": [
    "basic_convo = [\n",
    "    'Hi',\n",
    "    'Hello, how can I help you?',\n",
    "    'What is General Assembly?',\n",
    "    'Since 2011, General Assembly has transformed tens of thousands of careers through pioneering, experiential education in today’s most in-demand skills.',\n",
    "    'What classes do you offer?',\n",
    "    'We offer programs in web development, data science and analysis, user experience design, digital marketing, product management, and more.',\n",
    "    'Are there part-time classes?',\n",
    "    'Yes! Students can choose from a range of formats and modalities to help them best achieve their goals, including full-time, part-time, and short-form options — on campus, and online.',\n",
    "    'Thank you',\n",
    "    'No problem!',\n",
    "    'Thank you',\n",
    "    \"You're welcome!\",\n",
    "    'Thank you!',\n",
    "    'Any time!',\n",
    "    'Thank you',\n",
    "    \"You're welcome\",\n",
    "    'Thanks',\n",
    "    \"You're welcome!\"\n",
    "]"
   ]
  },
  {
   "cell_type": "code",
   "execution_count": 9,
   "metadata": {},
   "outputs": [
    {
     "name": "stdout",
     "output_type": "stream",
     "text": [
      "List Trainer: [####################] 100%\n"
     ]
    }
   ],
   "source": [
    "list_trainer.train(basic_convo)"
   ]
  },
  {
   "cell_type": "markdown",
   "metadata": {},
   "source": [
    "# Interacting with the Chatbot"
   ]
  },
  {
   "cell_type": "code",
   "execution_count": 10,
   "metadata": {},
   "outputs": [
    {
     "name": "stdin",
     "output_type": "stream",
     "text": [
      "You:  What is General Assembly?\n"
     ]
    },
    {
     "name": "stdout",
     "output_type": "stream",
     "text": [
      "GA Bot:  Since 2011, General Assembly has transformed tens of thousands of careers through pioneering, experiential education in today’s most in-demand skills.\n"
     ]
    },
    {
     "name": "stdin",
     "output_type": "stream",
     "text": [
      "You:  What locations are available in California?\n"
     ]
    },
    {
     "name": "stdout",
     "output_type": "stream",
     "text": [
      "GA Bot:  In California, General Assembly locations are available in Los Angeles, San Diego, San Francisco, and online.\n"
     ]
    },
    {
     "name": "stdin",
     "output_type": "stream",
     "text": [
      "You:  What is the email for San Franciso?\n"
     ]
    },
    {
     "name": "stdout",
     "output_type": "stream",
     "text": [
      "GA Bot:  The email for General Assembly - San Francisco is sf@generalassemb.ly.\n"
     ]
    },
    {
     "name": "stdin",
     "output_type": "stream",
     "text": [
      "You:  What locations are in Australia?\n"
     ]
    },
    {
     "name": "stdout",
     "output_type": "stream",
     "text": [
      "GA Bot:  Sorry, I am not sure of the answer. For more information visit the website: generalassemb.ly\n"
     ]
    },
    {
     "name": "stdin",
     "output_type": "stream",
     "text": [
      "You:  What locations are available in Australia?\n"
     ]
    },
    {
     "name": "stdout",
     "output_type": "stream",
     "text": [
      "GA Bot:  In Australia, General Assembly locations are available in Adelaide, Brisbane, Melbourne, Sydney, and online.\n"
     ]
    },
    {
     "name": "stdin",
     "output_type": "stream",
     "text": [
      "You:  What full time classes are available in Brisbane?\n"
     ]
    },
    {
     "name": "stdout",
     "output_type": "stream",
     "text": [
      "GA Bot:  Product Management, Front End Web Development, JavaScript Development, Python Programming, React Development, Data Analytics, Data Science, User Experience Design, Visual Design, and Digital Marketing are part-time classes available in Brisbane.\n"
     ]
    },
    {
     "name": "stdin",
     "output_type": "stream",
     "text": [
      "You:  What full time courses are available in Brisbane?\n"
     ]
    },
    {
     "name": "stdout",
     "output_type": "stream",
     "text": [
      "GA Bot:  Product Management, Front End Web Development, JavaScript Development, Python Programming, React Development, Data Analytics, Data Science, User Experience Design, Visual Design, and Digital Marketing are part-time courses available in Brisbane.\n"
     ]
    },
    {
     "name": "stdin",
     "output_type": "stream",
     "text": [
      "You:  What full-time classes are in Brisbane?\n"
     ]
    },
    {
     "name": "stdout",
     "output_type": "stream",
     "text": [
      "GA Bot:  Product Management, Front End Web Development, JavaScript Development, Python Programming, React Development, Data Analytics, Data Science, User Experience Design, Visual Design, and Digital Marketing are part-time classes available in Brisbane.\n"
     ]
    },
    {
     "name": "stdin",
     "output_type": "stream",
     "text": [
      "You:  What full-time classes are in Melbourne?\n"
     ]
    },
    {
     "name": "stdout",
     "output_type": "stream",
     "text": [
      "GA Bot:  Product Management, Front End Web Development, JavaScript Development, Python Programming, React Development, Data Analytics, Data Science, User Experience Design, Visual Design, and Digital Marketing are part-time classes available in Melbourne.\n"
     ]
    },
    {
     "name": "stdin",
     "output_type": "stream",
     "text": [
      "You:  What part-time classes are in Melbourne?\n"
     ]
    },
    {
     "name": "stdout",
     "output_type": "stream",
     "text": [
      "GA Bot:  Sorry, I am not sure of the answer. For more information visit the website: generalassemb.ly\n"
     ]
    },
    {
     "name": "stdin",
     "output_type": "stream",
     "text": [
      "You:  What part-time courses are available in Melbourne?\n"
     ]
    },
    {
     "name": "stdout",
     "output_type": "stream",
     "text": [
      "GA Bot:  Product Management, Front End Web Development, JavaScript Development, Python Programming, React Development, Data Analytics, Data Science, User Experience Design, Visual Design, and Digital Marketing are part-time courses available in Melbourne.\n"
     ]
    },
    {
     "name": "stdin",
     "output_type": "stream",
     "text": [
      "You:  What is the phone number for London?\n"
     ]
    },
    {
     "name": "stdout",
     "output_type": "stream",
     "text": [
      "GA Bot:  The phone number for General Assembly - London is +44 2033089506.\n"
     ]
    },
    {
     "name": "stdin",
     "output_type": "stream",
     "text": [
      "You:  What full time classes are available in Atlanta?\n"
     ]
    },
    {
     "name": "stdout",
     "output_type": "stream",
     "text": [
      "GA Bot:  Product Management, Front End Web Development, JavaScript Development, Python Programming, React Development, Data Analytics, Data Science, User Experience Design, Visual Design, and Digital Marketing are part-time classes available in Atlanta.\n"
     ]
    },
    {
     "name": "stdin",
     "output_type": "stream",
     "text": [
      "You:  Where is General Assembly in Atlanta?\n"
     ]
    },
    {
     "name": "stdout",
     "output_type": "stream",
     "text": [
      "GA Bot:  The address for General Assembly - Atlanta is 675 Ponce De Leon Avenue NE, 2nd Floor, Atlanta, GA 30308.\n"
     ]
    },
    {
     "name": "stdin",
     "output_type": "stream",
     "text": [
      "You:  What is the phone number for Atlanta?\n"
     ]
    },
    {
     "name": "stdout",
     "output_type": "stream",
     "text": [
      "GA Bot:  The phone number for General Assembly - Atlanta is +1 (404) 334-7858.\n"
     ]
    },
    {
     "name": "stdin",
     "output_type": "stream",
     "text": [
      "You:  What is Visual Design?\n"
     ]
    },
    {
     "name": "stdout",
     "output_type": "stream",
     "text": [
      "GA Bot:  Gain fluency in the fundamental tools of visual communication design, typography, color, and layout. GA's visual design advisory board curates the innovative teaching approaches of our entire expert network to meet evolving employer demands. From Gestalt, to UX, to responsive design, students graduate ready to tackle the challenges they'll face on the job. Balancing principles, practice, feedback, and critique, this course dives deep into in-demand tools and techniques that are relevant across a variety of careers. Learn valuable UI design skills, then apply them, kickstarting your portfolio with responsive web designs.\n"
     ]
    }
   ],
   "source": [
    "while True:\n",
    "    try:\n",
    "        response = chatbot.get_response(input('You: '))\n",
    "        print('GA Bot: ', response)\n",
    "    except (KeyboardInterrupt, EOFError, SystemExit):\n",
    "        break"
   ]
  }
 ],
 "metadata": {
  "kernelspec": {
   "display_name": "Python 3",
   "language": "python",
   "name": "python3"
  },
  "language_info": {
   "codemirror_mode": {
    "name": "ipython",
    "version": 3
   },
   "file_extension": ".py",
   "mimetype": "text/x-python",
   "name": "python",
   "nbconvert_exporter": "python",
   "pygments_lexer": "ipython3",
   "version": "3.7.6"
  }
 },
 "nbformat": 4,
 "nbformat_minor": 4
}